{
 "cells": [
  {
   "cell_type": "code",
   "execution_count": null,
   "metadata": {},
   "outputs": [],
   "source": [
    "import tensorflow.compat.v1 as tf\n",
    "tf.disable_v2_behavior()"
   ]
  },
  {
   "cell_type": "code",
   "execution_count": null,
   "metadata": {},
   "outputs": [],
   "source": []
  },
  {
   "cell_type": "code",
   "execution_count": null,
   "metadata": {},
   "outputs": [],
   "source": [
    "import tensorflow as tf\n"
   ]
  },
  {
   "cell_type": "code",
   "execution_count": null,
   "metadata": {},
   "outputs": [],
   "source": [
    "import tensorflow as tf\n",
    "import scipy.misc\n",
    "import model\n",
    "import cv2\n",
    "from subprocess import call\n",
    "import numpy as np\n",
    "# from skimage.transform import resize\n",
    "from scipy.misc import imresize\n",
    "from imageio import imread\n",
    "import matplotlib as plt\n",
    "import numpy as np\n",
    "import matplotlib.pyplot as plt\n",
    "%matplotlib inline\n",
    "import random \n",
    "import cv2\n",
    "# from tensorflow.contrib.layers import flatten\n",
    "import tensorflow as tf\n",
    "import csv\n",
    "from numpy import array\n",
    "from sklearn.model_selection import train_test_split\n",
    "from sklearn.utils import shuffle\n",
    "import time\n",
    "import matplotlib.gridspec as gridspec\n",
    "import cv2\n",
    "import pickle\n",
    "from __future__ import absolute_import, division, print_function\n",
    "\n",
    "import os\n",
    "\n",
    "from tensorflow import keras\n"
   ]
  },
  {
   "cell_type": "code",
   "execution_count": null,
   "metadata": {},
   "outputs": [],
   "source": [
    "sess = tf.compat.v1.InteractiveSession()\n",
    "saver = tf.compat.v1.train.Saver()\n",
    "# saver = tf.compat.v1.train.SaverDef()\n",
    "# saver.restore(sess, \"save/model.ckpt\")\n",
    "saver.restore(sess, \"C:/Users/Mohamed/tensorflow/save/model.ckpt\")\n"
   ]
  },
  {
   "cell_type": "code",
   "execution_count": null,
   "metadata": {},
   "outputs": [],
   "source": [
    "\n",
    "img = cv2.imread('steering_wheel_image.jpg',0)\n",
    "rows,cols = img.shape\n",
    "plt.imshow(img)\n",
    "plt.title('Sample Gray Image')\n",
    "plt.show()"
   ]
  },
  {
   "cell_type": "code",
   "execution_count": null,
   "metadata": {},
   "outputs": [],
   "source": [
    "smoothed_angle = 0\n",
    "\n"
   ]
  },
  {
   "cell_type": "code",
   "execution_count": null,
   "metadata": {},
   "outputs": [],
   "source": []
  },
  {
   "cell_type": "code",
   "execution_count": null,
   "metadata": {},
   "outputs": [],
   "source": [
    "\n",
    "# cap = cv2.VideoCapture(0)\n",
    "# while(cv2.waitKey(10) != ord('q')):\n",
    "#     ret, frame = cap.read()\n",
    "#     image = scipy.misc.imresize(frame, [66, 200]) / 255.0\n",
    "#     degrees = model.y.eval(feed_dict={model.x: [image], model.keep_prob: 1.0})[0][0] * 180 / scipy.pi\n",
    "#     call(\"clear\")\n",
    "#     print(\"Predicted steering angle: \" + str(degrees) + \" degrees\")\n",
    "#     cv2.imshow('frame', frame)\n",
    "#     #make smooth angle transitions by turning the steering wheel based on the difference of the current angle\n",
    "#     #and the predicted angle\n",
    "#     smoothed_angle += 0.2 * pow(abs((degrees - smoothed_angle)), 2.0 / 3.0) * (degrees - smoothed_angle) / abs(degrees - smoothed_angle)\n",
    "#     M = cv2.getRotationMatrix2D((cols/2,rows/2),-smoothed_angle,1)\n",
    "#     dst = cv2.warpAffine(img,M,(cols,rows))\n",
    "#     cv2.imshow(\"steering wheel\", dst)\n",
    "\n",
    "# cap.release()\n",
    "# cv2.destroyAllWindows()\n"
   ]
  },
  {
   "cell_type": "code",
   "execution_count": null,
   "metadata": {},
   "outputs": [],
   "source": [
    "\n",
    "# cap = cv2.VideoCapture(1)\n",
    "# while cap.isOpened():\n",
    "#     ret, frame = cap.read()\n",
    "#     #################################____________________Converting the Image to HSV and MASKING the image ______________________#####################################\n",
    "\n",
    "\n",
    "    \n",
    "#     image = scipy.misc.imresize(frame, [66, 200]) / 255.0\n",
    "#     degrees = model.y.eval(feed_dict={model.x: [image], model.keep_prob: 1.0})[0][0] * 180 / scipy.pi\n",
    "# # #     call(\"clear\")\n",
    "#     print(\"Predicted steering angle: \" + str(degrees) + \" degrees\")\n",
    "#     cv2.imshow('frame', frame)\n",
    "# #     #make smooth angle transitions by turning the steering wheel based on the difference of the current angle\n",
    "# #     #and the predicted angle\n",
    "#     smoothed_angle += 0.2 * pow(abs((degrees - smoothed_angle)), 2.0 / 3.0) * (degrees - smoothed_angle) / abs(degrees - smoothed_angle)\n",
    "#     M = cv2.getRotationMatrix2D((cols/2,rows/2),-smoothed_angle,1)\n",
    "#     dst = cv2.warpAffine(img,M,(cols,rows))\n",
    "# #     cv2.imshow(\"steering wheel\", dst)\n",
    "\n",
    "#     if cv2.waitKey(10) & 0xFF == ord('q'):\n",
    "#         break\n",
    "\n",
    "# cap.release()\n"
   ]
  },
  {
   "cell_type": "code",
   "execution_count": null,
   "metadata": {},
   "outputs": [],
   "source": [
    "\n",
    "cap = cap = cv2.VideoCapture('111.mp4')\n"
   ]
  },
  {
   "cell_type": "code",
   "execution_count": null,
   "metadata": {
    "scrolled": false
   },
   "outputs": [],
   "source": [
    "\n",
    "while cap.isOpened():\n",
    "    ret, frame = cap.read()\n",
    "    #################################____________________Converting the Image to HSV and MASKING the image ______________________#####################################\n",
    "\n",
    "\n",
    "    \n",
    "    image = scipy.misc.imresize(frame, [66, 200]) / 255.0\n",
    "    degrees = model.y.eval(feed_dict={model.x: [image], model.keep_prob: 1.0})[0][0] * 180 / scipy.pi\n",
    "# #     call(\"clear\")\n",
    "    print(\"Predicted steering angle: \" + str(degrees) + \" degrees\")\n",
    "    cv2.imshow('frame', frame)\n",
    "#     #make smooth angle transitions by turning the steering wheel based on the difference of the current angle\n",
    "#     #and the predicted angle\n",
    "    smoothed_angle += 0.2 * pow(abs((degrees - smoothed_angle)), 2.0 / 3.0) * (degrees - smoothed_angle) / abs(degrees - smoothed_angle)\n",
    "    M = cv2.getRotationMatrix2D((cols/2,rows/2),-smoothed_angle,1)\n",
    "    dst = cv2.warpAffine(img,M,(cols,rows))\n",
    "    cv2.imshow(\"steering wheel\", dst)\n",
    "\n",
    "    if cv2.waitKey(10) & 0xFF == ord('q'):\n",
    "        break\n",
    "\n",
    "cap.release()"
   ]
  },
  {
   "cell_type": "code",
   "execution_count": null,
   "metadata": {},
   "outputs": [],
   "source": []
  }
 ],
 "metadata": {
  "kernelspec": {
   "display_name": "Python 3",
   "language": "python",
   "name": "python3"
  },
  "language_info": {
   "codemirror_mode": {
    "name": "ipython",
    "version": 3
   },
   "file_extension": ".py",
   "mimetype": "text/x-python",
   "name": "python",
   "nbconvert_exporter": "python",
   "pygments_lexer": "ipython3",
   "version": "3.6.4"
  }
 },
 "nbformat": 4,
 "nbformat_minor": 2
}
